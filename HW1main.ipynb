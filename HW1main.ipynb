{
  "nbformat": 4,
  "nbformat_minor": 0,
  "metadata": {
    "colab": {
      "provenance": []
    },
    "kernelspec": {
      "name": "python3",
      "display_name": "Python 3"
    },
    "language_info": {
      "name": "python"
    }
  },
  "cells": [
    {
      "cell_type": "code",
      "execution_count": 8,
      "metadata": {
        "colab": {
          "base_uri": "https://localhost:8080/"
        },
        "id": "ATozB_vZiui2",
        "outputId": "22d65fd9-83ff-4489-e11a-609a1667e6c7"
      },
      "outputs": [
        {
          "output_type": "stream",
          "name": "stdout",
          "text": [
            "Please enter a number between 0~255:234\n",
            "Entered number:  234\n",
            "Binary:  11101010\n",
            "Hex:  EA\n"
          ]
        }
      ],
      "source": [
        "def main():\n",
        "    n = int(input(\"Please enter a number between 0~255:\"))\n",
        "    print(\"Entered number: \", n)\n",
        "\n",
        "    #convert decimal to binary\n",
        "    n_bin = n\n",
        "    bin_list = []\n",
        "    while n_bin >= 1:\n",
        "        bin_list.append(str(n_bin % 2))\n",
        "        n_bin //= 2\n",
        "    bin_list.reverse()\n",
        "\n",
        "\n",
        "    #convert decimal to hex\n",
        "    n_hex = n\n",
        "    digits = \"0123456789ABCDEF\"\n",
        "    hex_list = []\n",
        "    while n_hex >= 1:\n",
        "        hex_list.append(str(digits[n_hex%16]))\n",
        "        n_hex //= 16\n",
        "    hex_list.reverse()\n",
        "\n",
        "    print(\"Binary: \", ''.join(bin_list))\n",
        "    print(\"Hex: \", ''.join(hex_list))\n",
        "\n",
        "if __name__ == \"__main__\":\n",
        "    main()"
      ]
    }
  ]
}